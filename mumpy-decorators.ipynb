{
 "metadata": {
  "name": "",
  "signature": "sha256:f5bc7e76dcb2fccdb8de2d02115ae1b5f84b9c384eca11453e3366b3d770bef0"
 },
 "nbformat": 3,
 "nbformat_minor": 0,
 "worksheets": [
  {
   "cells": [
    {
     "cell_type": "heading",
     "level": 1,
     "metadata": {},
     "source": [
      "Decorators"
     ]
    },
    {
     "cell_type": "markdown",
     "metadata": {},
     "source": [
      "Presentation given at Mumbai Technology Meetup by [Anand Chitipothu](http://anandology.com/) on Feb 22, 2015.\n",
      "\n"
     ]
    },
    {
     "cell_type": "code",
     "collapsed": false,
     "input": [
      "def square(x):\n",
      "    return x*x\n",
      "\n",
      "print square(4)"
     ],
     "language": "python",
     "metadata": {},
     "outputs": [
      {
       "output_type": "stream",
       "stream": "stdout",
       "text": [
        "16\n"
       ]
      }
     ],
     "prompt_number": 1
    },
    {
     "cell_type": "code",
     "collapsed": false,
     "input": [
      "print square"
     ],
     "language": "python",
     "metadata": {},
     "outputs": [
      {
       "output_type": "stream",
       "stream": "stdout",
       "text": [
        "<function square at 0x106976320>\n"
       ]
      }
     ],
     "prompt_number": 2
    },
    {
     "cell_type": "code",
     "collapsed": false,
     "input": [
      "f = square"
     ],
     "language": "python",
     "metadata": {},
     "outputs": [],
     "prompt_number": 3
    },
    {
     "cell_type": "code",
     "collapsed": false,
     "input": [
      "f(4)"
     ],
     "language": "python",
     "metadata": {},
     "outputs": [
      {
       "metadata": {},
       "output_type": "pyout",
       "prompt_number": 4,
       "text": [
        "16"
       ]
      }
     ],
     "prompt_number": 4
    },
    {
     "cell_type": "code",
     "collapsed": false,
     "input": [
      "def sum_of_squares(x, y):\n",
      "    return square(x) + square(y)\n",
      "\n",
      "print sum_of_squares(3, 4)"
     ],
     "language": "python",
     "metadata": {},
     "outputs": [
      {
       "output_type": "stream",
       "stream": "stdout",
       "text": [
        "25\n"
       ]
      }
     ],
     "prompt_number": 5
    },
    {
     "cell_type": "code",
     "collapsed": false,
     "input": [
      "def cube(x):\n",
      "    return x*x*x\n",
      "\n",
      "def sum_of_cubes(x, y):\n",
      "    return cube(x)+cube(y)\n",
      "\n",
      "print sum_of_cubes(3, 4)"
     ],
     "language": "python",
     "metadata": {},
     "outputs": [
      {
       "output_type": "stream",
       "stream": "stdout",
       "text": [
        "91\n"
       ]
      }
     ],
     "prompt_number": 6
    },
    {
     "cell_type": "code",
     "collapsed": false,
     "input": [
      "def sum_of(f, x, y):\n",
      "    return f(x)+f(y)\n",
      "\n",
      "print sum_of(square, 3, 4)\n",
      "print sum_of(cube, 3, 4)"
     ],
     "language": "python",
     "metadata": {},
     "outputs": [
      {
       "output_type": "stream",
       "stream": "stdout",
       "text": [
        "25\n",
        "91\n"
       ]
      }
     ],
     "prompt_number": 7
    },
    {
     "cell_type": "code",
     "collapsed": false,
     "input": [
      "max(3, 4)"
     ],
     "language": "python",
     "metadata": {},
     "outputs": [
      {
       "metadata": {},
       "output_type": "pyout",
       "prompt_number": 8,
       "text": [
        "4"
       ]
      }
     ],
     "prompt_number": 8
    },
    {
     "cell_type": "code",
     "collapsed": false,
     "input": [
      "max([3, 4])"
     ],
     "language": "python",
     "metadata": {},
     "outputs": [
      {
       "metadata": {},
       "output_type": "pyout",
       "prompt_number": 9,
       "text": [
        "4"
       ]
      }
     ],
     "prompt_number": 9
    },
    {
     "cell_type": "code",
     "collapsed": false,
     "input": [
      "max(['Python', 'Haskell'])"
     ],
     "language": "python",
     "metadata": {},
     "outputs": [
      {
       "metadata": {},
       "output_type": "pyout",
       "prompt_number": 10,
       "text": [
        "'Python'"
       ]
      }
     ],
     "prompt_number": 10
    },
    {
     "cell_type": "code",
     "collapsed": false,
     "input": [
      "max(['Python', 'Haskell'], key=len)"
     ],
     "language": "python",
     "metadata": {},
     "outputs": [
      {
       "metadata": {},
       "output_type": "pyout",
       "prompt_number": 11,
       "text": [
        "'Haskell'"
       ]
      }
     ],
     "prompt_number": 11
    },
    {
     "cell_type": "code",
     "collapsed": false,
     "input": [
      "def xlen(s):\n",
      "    print \"xlen\", s\n",
      "    return len(s)\n",
      "max(['Python', 'Haskell'], key=xlen)"
     ],
     "language": "python",
     "metadata": {},
     "outputs": [
      {
       "output_type": "stream",
       "stream": "stdout",
       "text": [
        "xlen Python\n",
        "xlen Haskell\n"
       ]
      },
      {
       "metadata": {},
       "output_type": "pyout",
       "prompt_number": 12,
       "text": [
        "'Haskell'"
       ]
      }
     ],
     "prompt_number": 12
    },
    {
     "cell_type": "code",
     "collapsed": false,
     "input": [
      "names = [\"C\", \"java\", \"Python\", \"Haskell\", \"ruby\"]\n",
      "sorted(names)"
     ],
     "language": "python",
     "metadata": {},
     "outputs": [
      {
       "metadata": {},
       "output_type": "pyout",
       "prompt_number": 15,
       "text": [
        "['C', 'Haskell', 'Python', 'java', 'ruby']"
       ]
      }
     ],
     "prompt_number": 15
    },
    {
     "cell_type": "code",
     "collapsed": false,
     "input": [
      "sorted(names, key=len)"
     ],
     "language": "python",
     "metadata": {},
     "outputs": [
      {
       "metadata": {},
       "output_type": "pyout",
       "prompt_number": 16,
       "text": [
        "['C', 'java', 'ruby', 'Python', 'Haskell']"
       ]
      }
     ],
     "prompt_number": 16
    },
    {
     "cell_type": "code",
     "collapsed": false,
     "input": [
      "def lower(s):\n",
      "    return s.lower()\n",
      "\n",
      "sorted(names, key=lower)"
     ],
     "language": "python",
     "metadata": {},
     "outputs": [
      {
       "metadata": {},
       "output_type": "pyout",
       "prompt_number": 17,
       "text": [
        "['C', 'Haskell', 'java', 'Python', 'ruby']"
       ]
      }
     ],
     "prompt_number": 17
    },
    {
     "cell_type": "code",
     "collapsed": false,
     "input": [
      "sorted(names, key=lambda s: s.lower())"
     ],
     "language": "python",
     "metadata": {},
     "outputs": [
      {
       "metadata": {},
       "output_type": "pyout",
       "prompt_number": 18,
       "text": [
        "['C', 'Haskell', 'java', 'Python', 'ruby']"
       ]
      }
     ],
     "prompt_number": 18
    },
    {
     "cell_type": "heading",
     "level": 2,
     "metadata": {},
     "source": [
      "Variable number of arguments and keyword arguments"
     ]
    },
    {
     "cell_type": "code",
     "collapsed": false,
     "input": [
      "max(1, 2, 3)"
     ],
     "language": "python",
     "metadata": {},
     "outputs": [
      {
       "metadata": {},
       "output_type": "pyout",
       "prompt_number": 19,
       "text": [
        "3"
       ]
      }
     ],
     "prompt_number": 19
    },
    {
     "cell_type": "code",
     "collapsed": false,
     "input": [
      "def f(*x):\n",
      "    print x\n",
      "    \n",
      "f(1, 2, 3)"
     ],
     "language": "python",
     "metadata": {},
     "outputs": [
      {
       "output_type": "stream",
       "stream": "stdout",
       "text": [
        "(1, 2, 3)\n"
       ]
      }
     ],
     "prompt_number": 20
    },
    {
     "cell_type": "code",
     "collapsed": false,
     "input": [
      "def xprint(label, *args):\n",
      "    for a in args:\n",
      "        print label, a\n",
      "        \n",
      "xprint(\"[INFO]\", 1, 2, 3)"
     ],
     "language": "python",
     "metadata": {},
     "outputs": [
      {
       "output_type": "stream",
       "stream": "stdout",
       "text": [
        "[INFO] 1\n",
        "[INFO] 2\n",
        "[INFO] 3\n"
       ]
      }
     ],
     "prompt_number": 21
    },
    {
     "cell_type": "heading",
     "level": 2,
     "metadata": {},
     "source": [
      "Functions as return value"
     ]
    },
    {
     "cell_type": "code",
     "collapsed": false,
     "input": [
      "def make_adder(x):\n",
      "    def adder(y):\n",
      "        return x+y\n",
      "    return adder\n",
      "\n",
      "add5 = make_adder(5)\n",
      "print add5(3)"
     ],
     "language": "python",
     "metadata": {},
     "outputs": [
      {
       "output_type": "stream",
       "stream": "stdout",
       "text": [
        "8\n"
       ]
      }
     ],
     "prompt_number": 22
    },
    {
     "cell_type": "heading",
     "level": 2,
     "metadata": {},
     "source": [
      "Decorators"
     ]
    },
    {
     "cell_type": "code",
     "collapsed": false,
     "input": [
      "%%file sum.py\n",
      "def square(x):\n",
      "    print \"square\", x\n",
      "    return x*x\n",
      "\n",
      "def sum_of_squares(x, y):\n",
      "    print \"sum_of_squares\", x, y\n",
      "    return square(x) + square(y)\n",
      "\n",
      "if __name__ == \"__main__\":\n",
      "    print sum_of_squares(3, 4)"
     ],
     "language": "python",
     "metadata": {},
     "outputs": [
      {
       "output_type": "stream",
       "stream": "stdout",
       "text": [
        "Overwriting sum.py\n"
       ]
      }
     ],
     "prompt_number": 25
    },
    {
     "cell_type": "code",
     "collapsed": false,
     "input": [
      "!python sum.py"
     ],
     "language": "python",
     "metadata": {},
     "outputs": [
      {
       "output_type": "stream",
       "stream": "stdout",
       "text": [
        "sum_of_squares 3 4\r\n",
        "square 3\r\n",
        "square 4\r\n",
        "25\r\n"
       ]
      }
     ],
     "prompt_number": 26
    },
    {
     "cell_type": "code",
     "collapsed": false,
     "input": [
      "%%file trace0.py\n",
      "\n",
      "def trace(f):\n",
      "    \"\"\"Takes a function and returns a new equivalant function\n",
      "    that print the func name and args in addition to returning\n",
      "    the value.\n",
      "    \"\"\"\n",
      "    def g(*args):\n",
      "        print f.__name__, args\n",
      "        return f(*args)\n",
      "    return g"
     ],
     "language": "python",
     "metadata": {},
     "outputs": [
      {
       "output_type": "stream",
       "stream": "stdout",
       "text": [
        "Writing trace0.py\n"
       ]
      }
     ],
     "prompt_number": 27
    },
    {
     "cell_type": "code",
     "collapsed": false,
     "input": [
      "%%file sum1.py\n",
      "from trace0 import trace\n",
      "\n",
      "@trace\n",
      "def square(x):\n",
      "    return x*x\n",
      "\n",
      "#square = trace(square)\n",
      "\n",
      "@trace\n",
      "def sum_of_squares(x, y):\n",
      "    return square(x) + square(y)\n",
      "\n",
      "#sum_of_squares = trace(sum_of_squares)\n",
      "\n",
      "if __name__ == \"__main__\":\n",
      "    print sum_of_squares(3, 4)"
     ],
     "language": "python",
     "metadata": {},
     "outputs": [
      {
       "output_type": "stream",
       "stream": "stdout",
       "text": [
        "Overwriting sum1.py\n"
       ]
      }
     ],
     "prompt_number": 33
    },
    {
     "cell_type": "code",
     "collapsed": false,
     "input": [
      "!python sum1.py"
     ],
     "language": "python",
     "metadata": {},
     "outputs": [
      {
       "output_type": "stream",
       "stream": "stdout",
       "text": [
        "sum_of_squares (3, 4)\r\n",
        "square (3,)\r\n",
        "square (4,)\r\n",
        "25\r\n"
       ]
      }
     ],
     "prompt_number": 34
    },
    {
     "cell_type": "code",
     "collapsed": false,
     "input": [
      "%%file trace1.py\n",
      "import os\n",
      "\n",
      "level = 0\n",
      "def trace(f):\n",
      "    \"\"\"Takes a function and returns a new equivalant function\n",
      "    that print the func name and args in addition to returning\n",
      "    the value.\n",
      "    \"\"\"\n",
      "    if os.getenv(\"DEBUG\") != \"true\":\n",
      "        return f\n",
      "    def g(*args):\n",
      "        global level\n",
      "        print \"|  \" * level + \"|--\", f.__name__, args\n",
      "        level += 1\n",
      "        result = f(*args)\n",
      "        level -= 1\n",
      "        return result\n",
      "    return g"
     ],
     "language": "python",
     "metadata": {},
     "outputs": [
      {
       "output_type": "stream",
       "stream": "stdout",
       "text": [
        "Overwriting trace1.py\n"
       ]
      }
     ],
     "prompt_number": 47
    },
    {
     "cell_type": "code",
     "collapsed": false,
     "input": [
      "%%file sum2.py\n",
      "from trace1 import trace\n",
      "\n",
      "@trace\n",
      "def square(x):\n",
      "    return x*x\n",
      "\n",
      "@trace\n",
      "def sum_of_squares(x, y):\n",
      "    return square(x) + square(y)\n",
      "\n",
      "if __name__ == \"__main__\":\n",
      "    print sum_of_squares(3, 4)"
     ],
     "language": "python",
     "metadata": {},
     "outputs": [
      {
       "output_type": "stream",
       "stream": "stdout",
       "text": [
        "Overwriting sum2.py\n"
       ]
      }
     ],
     "prompt_number": 48
    },
    {
     "cell_type": "code",
     "collapsed": false,
     "input": [
      "!python sum2.py"
     ],
     "language": "python",
     "metadata": {},
     "outputs": [
      {
       "output_type": "stream",
       "stream": "stdout",
       "text": [
        "25\r\n"
       ]
      }
     ],
     "prompt_number": 49
    },
    {
     "cell_type": "code",
     "collapsed": false,
     "input": [
      "!DEBUG=true python sum2.py"
     ],
     "language": "python",
     "metadata": {},
     "outputs": [
      {
       "output_type": "stream",
       "stream": "stdout",
       "text": [
        "|-- sum_of_squares (3, 4)\r\n",
        "|  |-- square (3,)\r\n",
        "|  |-- square (4,)\r\n",
        "25\r\n"
       ]
      }
     ],
     "prompt_number": 50
    },
    {
     "cell_type": "code",
     "collapsed": false,
     "input": [
      "%%file fib0.py\n",
      "from trace1 import trace\n",
      "\n",
      "@trace\n",
      "def fib(n):\n",
      "    if n == 0 or n == 1:\n",
      "        return 1\n",
      "    else:\n",
      "        return fib(n-1)+fib(n-2)\n",
      "    \n",
      "if __name__ == \"__main__\":\n",
      "    import sys\n",
      "    n = int(sys.argv[1])\n",
      "    print fib(n)"
     ],
     "language": "python",
     "metadata": {},
     "outputs": [
      {
       "output_type": "stream",
       "stream": "stdout",
       "text": [
        "Writing fib0.py\n"
       ]
      }
     ],
     "prompt_number": 51
    },
    {
     "cell_type": "code",
     "collapsed": false,
     "input": [
      "!DEBUG=true python fib0.py 5"
     ],
     "language": "python",
     "metadata": {},
     "outputs": [
      {
       "output_type": "stream",
       "stream": "stdout",
       "text": [
        "|-- fib (5,)\r\n",
        "|  |-- fib (4,)\r\n",
        "|  |  |-- fib (3,)\r\n",
        "|  |  |  |-- fib (2,)\r\n",
        "|  |  |  |  |-- fib (1,)\r\n",
        "|  |  |  |  |-- fib (0,)\r\n",
        "|  |  |  |-- fib (1,)\r\n",
        "|  |  |-- fib (2,)\r\n",
        "|  |  |  |-- fib (1,)\r\n",
        "|  |  |  |-- fib (0,)\r\n",
        "|  |-- fib (3,)\r\n",
        "|  |  |-- fib (2,)\r\n",
        "|  |  |  |-- fib (1,)\r\n",
        "|  |  |  |-- fib (0,)\r\n",
        "|  |  |-- fib (1,)\r\n",
        "8\r\n"
       ]
      }
     ],
     "prompt_number": 57
    },
    {
     "cell_type": "code",
     "collapsed": false,
     "input": [
      "%%file memoize.py\n",
      "\n",
      "def memoize(f):\n",
      "    cache = {}\n",
      "    def g(*args):\n",
      "        if args not in cache:\n",
      "            cache[args] = f(*args)\n",
      "        return cache[args]\n",
      "    return g\n",
      "\n",
      "if __name__ == \"__main__\":\n",
      "    @memoize\n",
      "    def square(n):\n",
      "        print \"square\", n\n",
      "        return n*n\n",
      "    \n",
      "    print square(3)\n",
      "    print square(3)\n",
      "    print square(4)"
     ],
     "language": "python",
     "metadata": {},
     "outputs": [
      {
       "output_type": "stream",
       "stream": "stdout",
       "text": [
        "Overwriting memoize.py\n"
       ]
      }
     ],
     "prompt_number": 61
    },
    {
     "cell_type": "code",
     "collapsed": false,
     "input": [
      "!python memoize.py"
     ],
     "language": "python",
     "metadata": {},
     "outputs": [
      {
       "output_type": "stream",
       "stream": "stdout",
       "text": [
        "square 3\r\n",
        "9\r\n",
        "9\r\n",
        "square 4\r\n",
        "16\r\n"
       ]
      }
     ],
     "prompt_number": 62
    },
    {
     "cell_type": "code",
     "collapsed": false,
     "input": [
      "%%file fib1.py\n",
      "from trace1 import trace\n",
      "from memoize import memoize\n",
      "\n",
      "@memoize\n",
      "@trace\n",
      "def fib(n):\n",
      "    if n == 0 or n == 1:\n",
      "        return 1\n",
      "    else:\n",
      "        return fib(n-1)+fib(n-2)\n",
      "    \n",
      "if __name__ == \"__main__\":\n",
      "    import sys\n",
      "    n = int(sys.argv[1])\n",
      "    print fib(n)"
     ],
     "language": "python",
     "metadata": {},
     "outputs": [
      {
       "output_type": "stream",
       "stream": "stdout",
       "text": [
        "Writing fib1.py\n"
       ]
      }
     ],
     "prompt_number": 63
    },
    {
     "cell_type": "code",
     "collapsed": false,
     "input": [
      "!DEBUG=true python fib1.py 5"
     ],
     "language": "python",
     "metadata": {},
     "outputs": [
      {
       "output_type": "stream",
       "stream": "stdout",
       "text": [
        "|-- fib (5,)\r\n",
        "|  |-- fib (4,)\r\n",
        "|  |  |-- fib (3,)\r\n",
        "|  |  |  |-- fib (2,)\r\n",
        "|  |  |  |  |-- fib (1,)\r\n",
        "|  |  |  |  |-- fib (0,)\r\n",
        "8\r\n"
       ]
      }
     ],
     "prompt_number": 66
    },
    {
     "cell_type": "heading",
     "level": 2,
     "metadata": {},
     "source": [
      "Example: A Web Framework"
     ]
    },
    {
     "cell_type": "code",
     "collapsed": false,
     "input": [
      "%%file fakeweb.py\n",
      "\"\"\"The web framework\"\"\"\n",
      "\n",
      "mapping = []\n",
      "\n",
      "def route(path):\n",
      "    def decor(f):\n",
      "        mapping.append((path, f))\n",
      "    return decor\n",
      "\n",
      "def request(path):\n",
      "    for p, f in mapping:\n",
      "        if path == p:\n",
      "            return f()\n",
      "    return \"404 - Not Found\""
     ],
     "language": "python",
     "metadata": {},
     "outputs": [
      {
       "output_type": "stream",
       "stream": "stdout",
       "text": [
        "Overwriting fakeweb.py\n"
       ]
      }
     ],
     "prompt_number": 76
    },
    {
     "cell_type": "code",
     "collapsed": false,
     "input": [
      "%%file hello.py\n",
      "\"\"\"The web app\"\"\"\n",
      "\n",
      "from fakeweb import route\n",
      "\n",
      "@route(\"/hello\")\n",
      "def hello():\n",
      "    return \"Hello world\"\n",
      "\n",
      "@route(\"/bye\")\n",
      "def bye():\n",
      "    return \"Goodbye!\"\n"
     ],
     "language": "python",
     "metadata": {},
     "outputs": [
      {
       "output_type": "stream",
       "stream": "stdout",
       "text": [
        "Overwriting hello.py\n"
       ]
      }
     ],
     "prompt_number": 81
    },
    {
     "cell_type": "code",
     "collapsed": false,
     "input": [
      "%%file client.py\n",
      "import hello\n",
      "from fakeweb import request\n",
      "\n",
      "if __name__ == \"__main__\":\n",
      "    print request(\"/hello\")\n",
      "    print request(\"/bye\")    \n",
      "    print request(\"/some-thing-else\")       "
     ],
     "language": "python",
     "metadata": {},
     "outputs": [
      {
       "output_type": "stream",
       "stream": "stdout",
       "text": [
        "Overwriting client.py\n"
       ]
      }
     ],
     "prompt_number": 83
    },
    {
     "cell_type": "code",
     "collapsed": false,
     "input": [
      "!python client.py"
     ],
     "language": "python",
     "metadata": {},
     "outputs": [
      {
       "output_type": "stream",
       "stream": "stdout",
       "text": [
        "Hello world\r\n",
        "Goodbye!\r\n",
        "404 - Not Found\r\n"
       ]
      }
     ],
     "prompt_number": 84
    },
    {
     "cell_type": "code",
     "collapsed": false,
     "input": [],
     "language": "python",
     "metadata": {},
     "outputs": []
    }
   ],
   "metadata": {}
  }
 ]
}