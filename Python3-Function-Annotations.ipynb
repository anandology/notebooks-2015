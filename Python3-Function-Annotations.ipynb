{
 "metadata": {
  "name": "",
  "signature": "sha256:b2d16717b99aa10c99c81f00192af9162174fe4108b5baf810d61a4de11f4049"
 },
 "nbformat": 3,
 "nbformat_minor": 0,
 "worksheets": [
  {
   "cells": [
    {
     "cell_type": "heading",
     "level": 1,
     "metadata": {},
     "source": [
      "Function Annotations in Python 3"
     ]
    },
    {
     "cell_type": "markdown",
     "metadata": {},
     "source": [
      "Presentation given at [Mumbai Technology Meetup](http://www.meetup.com/Mumbai-Technology-Meetup/events/219395955/) by [Anand Chitipothu](http://anandology.com/) on January 11, 2015."
     ]
    },
    {
     "cell_type": "heading",
     "level": 2,
     "metadata": {},
     "source": [
      "Python Sucks!"
     ]
    },
    {
     "cell_type": "markdown",
     "metadata": {},
     "source": [
      "* No static type checking\n",
      "* Java is a lot better\n",
      "\n",
      "Lot of people complian."
     ]
    },
    {
     "cell_type": "heading",
     "level": 2,
     "metadata": {},
     "source": [
      "How about this?"
     ]
    },
    {
     "cell_type": "code",
     "collapsed": false,
     "input": [
      "def add(x: int, y: int) -> int:\n",
      "    return x+y\n",
      "\n",
      "print(add(3, 5))"
     ],
     "language": "python",
     "metadata": {},
     "outputs": [
      {
       "output_type": "stream",
       "stream": "stdout",
       "text": [
        "8\n"
       ]
      }
     ],
     "prompt_number": 1
    },
    {
     "cell_type": "markdown",
     "metadata": {},
     "source": [
      "This is valid Python 3 code!\n",
      "\n",
      "These are function annotations."
     ]
    },
    {
     "cell_type": "heading",
     "level": 2,
     "metadata": {},
     "source": [
      "Function Metadata"
     ]
    },
    {
     "cell_type": "code",
     "collapsed": false,
     "input": [
      "def square(x):\n",
      "    \"\"\"Computes square of a number.\n",
      "    \"\"\"\n",
      "    return x*x"
     ],
     "language": "python",
     "metadata": {},
     "outputs": [],
     "prompt_number": 2
    },
    {
     "cell_type": "code",
     "collapsed": false,
     "input": [
      "square.__name__"
     ],
     "language": "python",
     "metadata": {},
     "outputs": [
      {
       "metadata": {},
       "output_type": "pyout",
       "prompt_number": 3,
       "text": [
        "'square'"
       ]
      }
     ],
     "prompt_number": 3
    },
    {
     "cell_type": "code",
     "collapsed": false,
     "input": [
      "square.__doc__"
     ],
     "language": "python",
     "metadata": {},
     "outputs": [
      {
       "metadata": {},
       "output_type": "pyout",
       "prompt_number": 4,
       "text": [
        "'Computes square of a number.\\n    '"
       ]
      }
     ],
     "prompt_number": 4
    },
    {
     "cell_type": "code",
     "collapsed": false,
     "input": [
      "square.__module__"
     ],
     "language": "python",
     "metadata": {},
     "outputs": [
      {
       "metadata": {},
       "output_type": "pyout",
       "prompt_number": 5,
       "text": [
        "'__main__'"
       ]
      }
     ],
     "prompt_number": 5
    },
    {
     "cell_type": "markdown",
     "metadata": {},
     "source": [
      "Function annotations are also metadata."
     ]
    },
    {
     "cell_type": "code",
     "collapsed": false,
     "input": [
      "def add(x: int, y: int) -> int:\n",
      "    return x+y\n",
      "\n",
      "add.__annotations__"
     ],
     "language": "python",
     "metadata": {},
     "outputs": [
      {
       "metadata": {},
       "output_type": "pyout",
       "prompt_number": 7,
       "text": [
        "{'return': int, 'x': int, 'y': int}"
       ]
      }
     ],
     "prompt_number": 7
    },
    {
     "cell_type": "markdown",
     "metadata": {},
     "source": [
      "We can write programs that uses this information."
     ]
    },
    {
     "cell_type": "heading",
     "level": 2,
     "metadata": {},
     "source": [
      "PEP 3107"
     ]
    },
    {
     "cell_type": "markdown",
     "metadata": {},
     "source": [
      "Function annotations are defined in [PEP 3107][].\n",
      "\n",
      "Summary:\n",
      "\n",
      "* Annotations are completely optional\n",
      "* Python does not attach any particular meaning or significance to annotations\n",
      "* ... makes no attempt to introduce any kind of standard semantics, even for the built-in types. This work will be left to third-party libraries.\n",
      "\n",
      "[PEP 3107]: https://www.python.org/dev/peps/pep-3107/\n"
     ]
    },
    {
     "cell_type": "heading",
     "level": 2,
     "metadata": {},
     "source": [
      "Potential use cases"
     ]
    },
    {
     "cell_type": "markdown",
     "metadata": {},
     "source": [
      "* Type checking\n",
      "* Let IDEs show what types a function expects and returns\n",
      "* Refactoring tools\n",
      "* Function overloading / generic functions\n",
      "* ...\n"
     ]
    },
    {
     "cell_type": "heading",
     "level": 2,
     "metadata": {},
     "source": [
      "mypy"
     ]
    },
    {
     "cell_type": "markdown",
     "metadata": {},
     "source": [
      "Interesting project to provide static type checking for Python.\n",
      "\n",
      "* It is a static type checker for Python\n",
      "* Written by Jukka for his Ph.D. thesis. \n",
      "* More like a lint, can be run for checking for type errors\n",
      "* No runtime penalty\n",
      "\n",
      "<http://mypy-lang.org/>"
     ]
    },
    {
     "cell_type": "heading",
     "level": 2,
     "metadata": {},
     "source": [
      "mypy - Example"
     ]
    },
    {
     "cell_type": "code",
     "collapsed": false,
     "input": [
      "%%file square.py\n",
      "\n",
      "def square(x: int) -> int:\n",
      "    return x*x\n",
      "\n",
      "print(square(3.5))"
     ],
     "language": "python",
     "metadata": {},
     "outputs": [
      {
       "output_type": "stream",
       "stream": "stdout",
       "text": [
        "Overwriting square.py\n"
       ]
      }
     ],
     "prompt_number": 11
    },
    {
     "cell_type": "code",
     "collapsed": false,
     "input": [
      "!mypy square.py"
     ],
     "language": "python",
     "metadata": {},
     "outputs": [
      {
       "output_type": "stream",
       "stream": "stdout",
       "text": [
        "square.py, line 5: Argument 1 to \"square\" has incompatible type \"float\"; expected \"int\"\r\n"
       ]
      }
     ],
     "prompt_number": 12
    },
    {
     "cell_type": "code",
     "collapsed": false,
     "input": [
      "!python square.py"
     ],
     "language": "python",
     "metadata": {},
     "outputs": [
      {
       "output_type": "stream",
       "stream": "stdout",
       "text": [
        "12.25\r\n"
       ]
      }
     ],
     "prompt_number": 14
    },
    {
     "cell_type": "markdown",
     "metadata": {},
     "source": [
      "mypy does execute the code, it only checks for errors. When the code using Python, it runs as usual."
     ]
    },
    {
     "cell_type": "heading",
     "level": 2,
     "metadata": {},
     "source": [
      "Example: List of integers"
     ]
    },
    {
     "cell_type": "code",
     "collapsed": false,
     "input": [
      "%%file avg.py\n",
      "from typing import List\n",
      "\n",
      "def average(values: List[int]) -> float:\n",
      "    return sum(values)/len(values)\n",
      "\n",
      "print(average([1, 2, 3, 4]))\n",
      "print(average([1, 2, 3, 'x']))"
     ],
     "language": "python",
     "metadata": {},
     "outputs": [
      {
       "output_type": "stream",
       "stream": "stdout",
       "text": [
        "Overwriting avg.py\n"
       ]
      }
     ],
     "prompt_number": 19
    },
    {
     "cell_type": "code",
     "collapsed": false,
     "input": [
      "!mypy avg.py"
     ],
     "language": "python",
     "metadata": {},
     "outputs": [
      {
       "output_type": "stream",
       "stream": "stdout",
       "text": [
        "avg.py, line 7: List item 4 has incompatible type \"str\"\r\n"
       ]
      }
     ],
     "prompt_number": 20
    },
    {
     "cell_type": "heading",
     "level": 2,
     "metadata": {},
     "source": [
      "Example: word frequency"
     ]
    },
    {
     "cell_type": "code",
     "collapsed": false,
     "input": [
      "%%file wordfreq.py\n",
      "\n",
      "from typing import List, Dict\n",
      "\n",
      "def wordfreq(words: List[str]) -> Dict[str,int]:\n",
      "    freq = Dict[str, int]()\n",
      "    for w in words:\n",
      "        freq[w] = freq.get(w, 0) + 1\n",
      "    return freq"
     ],
     "language": "python",
     "metadata": {},
     "outputs": [
      {
       "output_type": "stream",
       "stream": "stdout",
       "text": [
        "Overwriting wordfreq.py\n"
       ]
      }
     ],
     "prompt_number": 21
    },
    {
     "cell_type": "markdown",
     "metadata": {},
     "source": [
      "`List[int]()`, `Dict[str,int]` etc. creates regular list/dict, but mypy uses the type info for type checking.\n",
      "\n",
      "Lets try a an error case."
     ]
    },
    {
     "cell_type": "code",
     "collapsed": false,
     "input": [
      "%%file badlist.py\n",
      "from typing import List\n",
      "a = List[int]()\n",
      "a.append(1)\n",
      "a.append(2)\n",
      "a[0] = 'x'\n",
      "print(a)"
     ],
     "language": "python",
     "metadata": {},
     "outputs": [
      {
       "output_type": "stream",
       "stream": "stdout",
       "text": [
        "Overwriting badlist.py\n"
       ]
      }
     ],
     "prompt_number": 25
    },
    {
     "cell_type": "code",
     "collapsed": false,
     "input": [
      "!mypy badlist.py"
     ],
     "language": "python",
     "metadata": {},
     "outputs": [
      {
       "output_type": "stream",
       "stream": "stdout",
       "text": [
        "badlist.py, line 5: No overload variant of \"__setitem__\" of \"list\" matches argument types\r\n"
       ]
      }
     ],
     "prompt_number": 26
    },
    {
     "cell_type": "markdown",
     "metadata": {},
     "source": [
      "Not that while mypy gives an error, python will execute that code, without any errors. "
     ]
    },
    {
     "cell_type": "code",
     "collapsed": false,
     "input": [
      "!python badlist.py"
     ],
     "language": "python",
     "metadata": {},
     "outputs": [
      {
       "output_type": "stream",
       "stream": "stdout",
       "text": [
        "['x', 2]\r\n"
       ]
      }
     ],
     "prompt_number": 27
    },
    {
     "cell_type": "heading",
     "level": 2,
     "metadata": {},
     "source": [
      "And BDFL blessed mypy!"
     ]
    },
    {
     "cell_type": "markdown",
     "metadata": {},
     "source": [
      "[[Python-ideas] Optional static typing -- the crossroads](https://mail.python.org/pipermail/python-ideas/2014-August/028742.html)   \n",
      "- a post by Guido van Rossum in python-ideas mailing list\n",
      "\n",
      "We may see some form of static type checking in Python standard library in Python 3.5."
     ]
    },
    {
     "cell_type": "code",
     "collapsed": false,
     "input": [],
     "language": "python",
     "metadata": {},
     "outputs": []
    }
   ],
   "metadata": {}
  }
 ]
}